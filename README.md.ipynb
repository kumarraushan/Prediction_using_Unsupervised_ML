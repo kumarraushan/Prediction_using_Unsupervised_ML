{
 "cells": [
  {
   "cell_type": "markdown",
   "id": "ae862665",
   "metadata": {},
   "source": [
    "### GRIP@The Sparks Foundation\n",
    "#### Internship- Data science & Business Analyst\n",
    "#### Task 2 : Prediction using Unsupervised ML\n",
    "#### Problem Statement: predict the optimum number of clusters and represent it visually\n",
    " \n"
   ]
  }
 ],
 "metadata": {
  "kernelspec": {
   "display_name": "Python 3 (ipykernel)",
   "language": "python",
   "name": "python3"
  },
  "language_info": {
   "codemirror_mode": {
    "name": "ipython",
    "version": 3
   },
   "file_extension": ".py",
   "mimetype": "text/x-python",
   "name": "python",
   "nbconvert_exporter": "python",
   "pygments_lexer": "ipython3",
   "version": "3.10.9"
  }
 },
 "nbformat": 4,
 "nbformat_minor": 5
}
